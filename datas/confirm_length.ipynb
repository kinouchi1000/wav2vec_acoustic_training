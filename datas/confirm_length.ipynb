{
 "cells": [
  {
   "cell_type": "code",
   "execution_count": 1,
   "metadata": {},
   "outputs": [
    {
     "name": "stdout",
     "output_type": "stream",
     "text": [
      "all_len=120765816054\n",
      "mean_len=75572.91224177161\n",
      "min_len=16000\n",
      "max_len=24150157\n"
     ]
    }
   ],
   "source": [
    "manifest = \"manifest/train.tsv\"\n",
    "# manifest = \"manifest/valid.tsv\"\n",
    "\n",
    "# train length\n",
    "\n",
    "all_len=0\n",
    "min_len=1000000\n",
    "max_len=0\n",
    "length_list = []\n",
    "with open(manifest) as f:\n",
    "    lines = f.readlines()[1:]\n",
    "    amount = len(lines)\n",
    "    for line in lines:\n",
    "        line = line.rstrip()\n",
    "        path_length = line.split(\"\\t\")\n",
    "        length = int(path_length[1])\n",
    "        length_list.append(length)\n",
    "        all_len += length\n",
    "        min_len = length if min_len > length else min_len\n",
    "        max_len = length if max_len < length else max_len\n",
    "\n",
    "print(f\"all_len={all_len}\")\n",
    "print(f\"mean_len={all_len/amount}\")\n",
    "print(f\"min_len={min_len}\")\n",
    "print(f\"max_len={max_len}\")\n",
    "        "
   ]
  },
  {
   "cell_type": "code",
   "execution_count": 6,
   "metadata": {},
   "outputs": [
    {
     "name": "stdout",
     "output_type": "stream",
     "text": [
      "[122720, 40000, 55840, 18240, 68640, 20960, 37280, 54400, 47680, 19360]\n"
     ]
    }
   ],
   "source": [
    "print(length_list[:10])"
   ]
  },
  {
   "cell_type": "code",
   "execution_count": 9,
   "metadata": {},
   "outputs": [
    {
     "data": {
      "image/png": "[encoded data removed]",
      "text/plain": [
       "<Figure size 432x288 with 1 Axes>"
      ]
     },
     "metadata": {
      "needs_background": "light"
     },
     "output_type": "display_data"
    }
   ],
   "source": [
    "import matplotlib.pyplot as plt\n",
    "\n",
    "plt.hist(length_list, bins=10000)\n",
    "plt.xlim((0,1000000))\n",
    "plt.show()"
   ]
  },
  {
   "cell_type": "code",
   "execution_count": null,
   "metadata": {},
   "outputs": [],
   "source": []
  }
 ],
 "metadata": {
  "kernelspec": {
   "display_name": "Python 3.9.7 ('base')",
   "language": "python",
   "name": "python3"
  },
  "language_info": {
   "codemirror_mode": {
    "name": "ipython",
    "version": 3
   },
   "file_extension": ".py",
   "mimetype": "text/x-python",
   "name": "python",
   "nbconvert_exporter": "python",
   "pygments_lexer": "ipython3",
   "version": "3.9.7"
  },
  "orig_nbformat": 4,
  "vscode": {
   "interpreter": {
    "hash": "81ebe92b0327e899c5b24c4bb241d8a48a3df8c4bca04fa266b57022410c3959"
   }
  }
 },
 "nbformat": 4,
 "nbformat_minor": 2
}
